{
  "cells": [
    {
      "cell_type": "code",
      "execution_count": 1,
      "id": "7d251b61",
      "metadata": {
        "id": "7d251b61"
      },
      "outputs": [],
      "source": [
        "import numpy as np\n",
        "import pandas as pd\n",
        "import matplotlib.pyplot as plt\n",
        "%matplotlib inline\n",
        "\n",
        "\n"
      ]
    },
    {
      "cell_type": "code",
      "execution_count": 2,
      "id": "4d060b83",
      "metadata": {
        "id": "4d060b83"
      },
      "outputs": [],
      "source": [
        "# import libraries for neural network\n",
        "import tensorflow as tf\n",
        "from tensorflow.keras.models import Model, Sequential\n",
        "from tensorflow.keras.layers import Reshape, Dense, Dropout, Flatten,Activation\n",
        "from tensorflow.keras.layers import Conv1D, Conv2D, BatchNormalization, LayerNormalization, MaxPooling2D\n",
        "from tensorflow.keras.optimizers import Adam\n",
        "from tensorflow.keras.layers import SimpleRNN, Input\n",
        "from tensorflow.keras.utils import to_categorical\n"
      ]
    },
    {
      "cell_type": "markdown",
      "id": "a51c753c",
      "metadata": {
        "id": "a51c753c"
      },
      "source": [
        "### Load and Read Data"
      ]
    },
    {
      "cell_type": "code",
      "execution_count": 3,
      "id": "2faaebb1",
      "metadata": {
        "id": "2faaebb1"
      },
      "outputs": [],
      "source": [
        "df = pd.read_csv(\"/content/s2annimp.csv\")"
      ]
    },
    {
      "cell_type": "code",
      "execution_count": 4,
      "id": "90d2d926",
      "metadata": {
        "colab": {
          "base_uri": "https://localhost:8080/",
          "height": 206
        },
        "id": "90d2d926",
        "outputId": "98a43661-32a7-4b48-ff66-792518cec25b"
      },
      "outputs": [
        {
          "output_type": "execute_result",
          "data": {
            "text/plain": [
              "                                             quizzes  \\\n",
              "0  0832954170018000590950008620700009000000700203...   \n",
              "1  1007540310002060070048390500010780000405903100...   \n",
              "2  7000508348000250409300782008798004000004970266...   \n",
              "3  0000930078030000290590824039003502016001007081...   \n",
              "4  6507300901986000070370002860003456020000010742...   \n",
              "\n",
              "                                           solutions  \n",
              "0  6832954174218673597953416625721349868465771233...  \n",
              "1  1697548323582169477748396515314782967465823189...  \n",
              "2  7126548398659237419348782652798614533584971266...  \n",
              "3  2145936878687415297596824137783542616331297481...  \n",
              "4  6527348913986524374371382569713456823852619742...  "
            ],
            "text/html": [
              "\n",
              "  <div id=\"df-1baa114a-a75a-4f01-8b6a-abffbdec9640\" class=\"colab-df-container\">\n",
              "    <div>\n",
              "<style scoped>\n",
              "    .dataframe tbody tr th:only-of-type {\n",
              "        vertical-align: middle;\n",
              "    }\n",
              "\n",
              "    .dataframe tbody tr th {\n",
              "        vertical-align: top;\n",
              "    }\n",
              "\n",
              "    .dataframe thead th {\n",
              "        text-align: right;\n",
              "    }\n",
              "</style>\n",
              "<table border=\"1\" class=\"dataframe\">\n",
              "  <thead>\n",
              "    <tr style=\"text-align: right;\">\n",
              "      <th></th>\n",
              "      <th>quizzes</th>\n",
              "      <th>solutions</th>\n",
              "    </tr>\n",
              "  </thead>\n",
              "  <tbody>\n",
              "    <tr>\n",
              "      <th>0</th>\n",
              "      <td>0832954170018000590950008620700009000000700203...</td>\n",
              "      <td>6832954174218673597953416625721349868465771233...</td>\n",
              "    </tr>\n",
              "    <tr>\n",
              "      <th>1</th>\n",
              "      <td>1007540310002060070048390500010780000405903100...</td>\n",
              "      <td>1697548323582169477748396515314782967465823189...</td>\n",
              "    </tr>\n",
              "    <tr>\n",
              "      <th>2</th>\n",
              "      <td>7000508348000250409300782008798004000004970266...</td>\n",
              "      <td>7126548398659237419348782652798614533584971266...</td>\n",
              "    </tr>\n",
              "    <tr>\n",
              "      <th>3</th>\n",
              "      <td>0000930078030000290590824039003502016001007081...</td>\n",
              "      <td>2145936878687415297596824137783542616331297481...</td>\n",
              "    </tr>\n",
              "    <tr>\n",
              "      <th>4</th>\n",
              "      <td>6507300901986000070370002860003456020000010742...</td>\n",
              "      <td>6527348913986524374371382569713456823852619742...</td>\n",
              "    </tr>\n",
              "  </tbody>\n",
              "</table>\n",
              "</div>\n",
              "    <div class=\"colab-df-buttons\">\n",
              "\n",
              "  <div class=\"colab-df-container\">\n",
              "    <button class=\"colab-df-convert\" onclick=\"convertToInteractive('df-1baa114a-a75a-4f01-8b6a-abffbdec9640')\"\n",
              "            title=\"Convert this dataframe to an interactive table.\"\n",
              "            style=\"display:none;\">\n",
              "\n",
              "  <svg xmlns=\"http://www.w3.org/2000/svg\" height=\"24px\" viewBox=\"0 -960 960 960\">\n",
              "    <path d=\"M120-120v-720h720v720H120Zm60-500h600v-160H180v160Zm220 220h160v-160H400v160Zm0 220h160v-160H400v160ZM180-400h160v-160H180v160Zm440 0h160v-160H620v160ZM180-180h160v-160H180v160Zm440 0h160v-160H620v160Z\"/>\n",
              "  </svg>\n",
              "    </button>\n",
              "\n",
              "  <style>\n",
              "    .colab-df-container {\n",
              "      display:flex;\n",
              "      gap: 12px;\n",
              "    }\n",
              "\n",
              "    .colab-df-convert {\n",
              "      background-color: #E8F0FE;\n",
              "      border: none;\n",
              "      border-radius: 50%;\n",
              "      cursor: pointer;\n",
              "      display: none;\n",
              "      fill: #1967D2;\n",
              "      height: 32px;\n",
              "      padding: 0 0 0 0;\n",
              "      width: 32px;\n",
              "    }\n",
              "\n",
              "    .colab-df-convert:hover {\n",
              "      background-color: #E2EBFA;\n",
              "      box-shadow: 0px 1px 2px rgba(60, 64, 67, 0.3), 0px 1px 3px 1px rgba(60, 64, 67, 0.15);\n",
              "      fill: #174EA6;\n",
              "    }\n",
              "\n",
              "    .colab-df-buttons div {\n",
              "      margin-bottom: 4px;\n",
              "    }\n",
              "\n",
              "    [theme=dark] .colab-df-convert {\n",
              "      background-color: #3B4455;\n",
              "      fill: #D2E3FC;\n",
              "    }\n",
              "\n",
              "    [theme=dark] .colab-df-convert:hover {\n",
              "      background-color: #434B5C;\n",
              "      box-shadow: 0px 1px 3px 1px rgba(0, 0, 0, 0.15);\n",
              "      filter: drop-shadow(0px 1px 2px rgba(0, 0, 0, 0.3));\n",
              "      fill: #FFFFFF;\n",
              "    }\n",
              "  </style>\n",
              "\n",
              "    <script>\n",
              "      const buttonEl =\n",
              "        document.querySelector('#df-1baa114a-a75a-4f01-8b6a-abffbdec9640 button.colab-df-convert');\n",
              "      buttonEl.style.display =\n",
              "        google.colab.kernel.accessAllowed ? 'block' : 'none';\n",
              "\n",
              "      async function convertToInteractive(key) {\n",
              "        const element = document.querySelector('#df-1baa114a-a75a-4f01-8b6a-abffbdec9640');\n",
              "        const dataTable =\n",
              "          await google.colab.kernel.invokeFunction('convertToInteractive',\n",
              "                                                    [key], {});\n",
              "        if (!dataTable) return;\n",
              "\n",
              "        const docLinkHtml = 'Like what you see? Visit the ' +\n",
              "          '<a target=\"_blank\" href=https://colab.research.google.com/notebooks/data_table.ipynb>data table notebook</a>'\n",
              "          + ' to learn more about interactive tables.';\n",
              "        element.innerHTML = '';\n",
              "        dataTable['output_type'] = 'display_data';\n",
              "        await google.colab.output.renderOutput(dataTable, element);\n",
              "        const docLink = document.createElement('div');\n",
              "        docLink.innerHTML = docLinkHtml;\n",
              "        element.appendChild(docLink);\n",
              "      }\n",
              "    </script>\n",
              "  </div>\n",
              "\n",
              "\n",
              "<div id=\"df-ef806400-3825-45f9-8d81-b60ef844cf74\">\n",
              "  <button class=\"colab-df-quickchart\" onclick=\"quickchart('df-ef806400-3825-45f9-8d81-b60ef844cf74')\"\n",
              "            title=\"Suggest charts\"\n",
              "            style=\"display:none;\">\n",
              "\n",
              "<svg xmlns=\"http://www.w3.org/2000/svg\" height=\"24px\"viewBox=\"0 0 24 24\"\n",
              "     width=\"24px\">\n",
              "    <g>\n",
              "        <path d=\"M19 3H5c-1.1 0-2 .9-2 2v14c0 1.1.9 2 2 2h14c1.1 0 2-.9 2-2V5c0-1.1-.9-2-2-2zM9 17H7v-7h2v7zm4 0h-2V7h2v10zm4 0h-2v-4h2v4z\"/>\n",
              "    </g>\n",
              "</svg>\n",
              "  </button>\n",
              "\n",
              "<style>\n",
              "  .colab-df-quickchart {\n",
              "      --bg-color: #E8F0FE;\n",
              "      --fill-color: #1967D2;\n",
              "      --hover-bg-color: #E2EBFA;\n",
              "      --hover-fill-color: #174EA6;\n",
              "      --disabled-fill-color: #AAA;\n",
              "      --disabled-bg-color: #DDD;\n",
              "  }\n",
              "\n",
              "  [theme=dark] .colab-df-quickchart {\n",
              "      --bg-color: #3B4455;\n",
              "      --fill-color: #D2E3FC;\n",
              "      --hover-bg-color: #434B5C;\n",
              "      --hover-fill-color: #FFFFFF;\n",
              "      --disabled-bg-color: #3B4455;\n",
              "      --disabled-fill-color: #666;\n",
              "  }\n",
              "\n",
              "  .colab-df-quickchart {\n",
              "    background-color: var(--bg-color);\n",
              "    border: none;\n",
              "    border-radius: 50%;\n",
              "    cursor: pointer;\n",
              "    display: none;\n",
              "    fill: var(--fill-color);\n",
              "    height: 32px;\n",
              "    padding: 0;\n",
              "    width: 32px;\n",
              "  }\n",
              "\n",
              "  .colab-df-quickchart:hover {\n",
              "    background-color: var(--hover-bg-color);\n",
              "    box-shadow: 0 1px 2px rgba(60, 64, 67, 0.3), 0 1px 3px 1px rgba(60, 64, 67, 0.15);\n",
              "    fill: var(--button-hover-fill-color);\n",
              "  }\n",
              "\n",
              "  .colab-df-quickchart-complete:disabled,\n",
              "  .colab-df-quickchart-complete:disabled:hover {\n",
              "    background-color: var(--disabled-bg-color);\n",
              "    fill: var(--disabled-fill-color);\n",
              "    box-shadow: none;\n",
              "  }\n",
              "\n",
              "  .colab-df-spinner {\n",
              "    border: 2px solid var(--fill-color);\n",
              "    border-color: transparent;\n",
              "    border-bottom-color: var(--fill-color);\n",
              "    animation:\n",
              "      spin 1s steps(1) infinite;\n",
              "  }\n",
              "\n",
              "  @keyframes spin {\n",
              "    0% {\n",
              "      border-color: transparent;\n",
              "      border-bottom-color: var(--fill-color);\n",
              "      border-left-color: var(--fill-color);\n",
              "    }\n",
              "    20% {\n",
              "      border-color: transparent;\n",
              "      border-left-color: var(--fill-color);\n",
              "      border-top-color: var(--fill-color);\n",
              "    }\n",
              "    30% {\n",
              "      border-color: transparent;\n",
              "      border-left-color: var(--fill-color);\n",
              "      border-top-color: var(--fill-color);\n",
              "      border-right-color: var(--fill-color);\n",
              "    }\n",
              "    40% {\n",
              "      border-color: transparent;\n",
              "      border-right-color: var(--fill-color);\n",
              "      border-top-color: var(--fill-color);\n",
              "    }\n",
              "    60% {\n",
              "      border-color: transparent;\n",
              "      border-right-color: var(--fill-color);\n",
              "    }\n",
              "    80% {\n",
              "      border-color: transparent;\n",
              "      border-right-color: var(--fill-color);\n",
              "      border-bottom-color: var(--fill-color);\n",
              "    }\n",
              "    90% {\n",
              "      border-color: transparent;\n",
              "      border-bottom-color: var(--fill-color);\n",
              "    }\n",
              "  }\n",
              "</style>\n",
              "\n",
              "  <script>\n",
              "    async function quickchart(key) {\n",
              "      const quickchartButtonEl =\n",
              "        document.querySelector('#' + key + ' button');\n",
              "      quickchartButtonEl.disabled = true;  // To prevent multiple clicks.\n",
              "      quickchartButtonEl.classList.add('colab-df-spinner');\n",
              "      try {\n",
              "        const charts = await google.colab.kernel.invokeFunction(\n",
              "            'suggestCharts', [key], {});\n",
              "      } catch (error) {\n",
              "        console.error('Error during call to suggestCharts:', error);\n",
              "      }\n",
              "      quickchartButtonEl.classList.remove('colab-df-spinner');\n",
              "      quickchartButtonEl.classList.add('colab-df-quickchart-complete');\n",
              "    }\n",
              "    (() => {\n",
              "      let quickchartButtonEl =\n",
              "        document.querySelector('#df-ef806400-3825-45f9-8d81-b60ef844cf74 button');\n",
              "      quickchartButtonEl.style.display =\n",
              "        google.colab.kernel.accessAllowed ? 'block' : 'none';\n",
              "    })();\n",
              "  </script>\n",
              "</div>\n",
              "    </div>\n",
              "  </div>\n"
            ]
          },
          "metadata": {},
          "execution_count": 4
        }
      ],
      "source": [
        "df.head()"
      ]
    },
    {
      "cell_type": "code",
      "execution_count": null,
      "id": "b80d4b7f",
      "metadata": {
        "colab": {
          "base_uri": "https://localhost:8080/"
        },
        "id": "b80d4b7f",
        "outputId": "71ad7a1b-2bbf-4d06-c65b-ab5162db56fd"
      },
      "outputs": [
        {
          "output_type": "execute_result",
          "data": {
            "text/plain": [
              "(50000, 2)"
            ]
          },
          "metadata": {},
          "execution_count": 5
        }
      ],
      "source": [
        "df.shape"
      ]
    },
    {
      "cell_type": "code",
      "execution_count": 5,
      "id": "f26ed6c0",
      "metadata": {
        "colab": {
          "base_uri": "https://localhost:8080/",
          "height": 206
        },
        "id": "f26ed6c0",
        "outputId": "9be66670-a55f-42c5-e9dc-0294e2d2be75"
      },
      "outputs": [
        {
          "output_type": "execute_result",
          "data": {
            "text/plain": [
              "                                             quizzes  \\\n",
              "0  0832954170018000590950008620700009000000700203...   \n",
              "1  1007540310002060070048390500010780000405903100...   \n",
              "2  7000508348000250409300782008798004000004970266...   \n",
              "3  0000930078030000290590824039003502016001007081...   \n",
              "4  6507300901986000070370002860003456020000010742...   \n",
              "\n",
              "                                           solutions  \n",
              "0  6832954174218673597953416625721349868465771233...  \n",
              "1  1697548323582169477748396515314782967465823189...  \n",
              "2  7126548398659237419348782652798614533584971266...  \n",
              "3  2145936878687415297596824137783542616331297481...  \n",
              "4  6527348913986524374371382569713456823852619742...  "
            ],
            "text/html": [
              "\n",
              "  <div id=\"df-52614749-2c84-4643-af74-e004d8e1a27c\" class=\"colab-df-container\">\n",
              "    <div>\n",
              "<style scoped>\n",
              "    .dataframe tbody tr th:only-of-type {\n",
              "        vertical-align: middle;\n",
              "    }\n",
              "\n",
              "    .dataframe tbody tr th {\n",
              "        vertical-align: top;\n",
              "    }\n",
              "\n",
              "    .dataframe thead th {\n",
              "        text-align: right;\n",
              "    }\n",
              "</style>\n",
              "<table border=\"1\" class=\"dataframe\">\n",
              "  <thead>\n",
              "    <tr style=\"text-align: right;\">\n",
              "      <th></th>\n",
              "      <th>quizzes</th>\n",
              "      <th>solutions</th>\n",
              "    </tr>\n",
              "  </thead>\n",
              "  <tbody>\n",
              "    <tr>\n",
              "      <th>0</th>\n",
              "      <td>0832954170018000590950008620700009000000700203...</td>\n",
              "      <td>6832954174218673597953416625721349868465771233...</td>\n",
              "    </tr>\n",
              "    <tr>\n",
              "      <th>1</th>\n",
              "      <td>1007540310002060070048390500010780000405903100...</td>\n",
              "      <td>1697548323582169477748396515314782967465823189...</td>\n",
              "    </tr>\n",
              "    <tr>\n",
              "      <th>2</th>\n",
              "      <td>7000508348000250409300782008798004000004970266...</td>\n",
              "      <td>7126548398659237419348782652798614533584971266...</td>\n",
              "    </tr>\n",
              "    <tr>\n",
              "      <th>3</th>\n",
              "      <td>0000930078030000290590824039003502016001007081...</td>\n",
              "      <td>2145936878687415297596824137783542616331297481...</td>\n",
              "    </tr>\n",
              "    <tr>\n",
              "      <th>4</th>\n",
              "      <td>6507300901986000070370002860003456020000010742...</td>\n",
              "      <td>6527348913986524374371382569713456823852619742...</td>\n",
              "    </tr>\n",
              "  </tbody>\n",
              "</table>\n",
              "</div>\n",
              "    <div class=\"colab-df-buttons\">\n",
              "\n",
              "  <div class=\"colab-df-container\">\n",
              "    <button class=\"colab-df-convert\" onclick=\"convertToInteractive('df-52614749-2c84-4643-af74-e004d8e1a27c')\"\n",
              "            title=\"Convert this dataframe to an interactive table.\"\n",
              "            style=\"display:none;\">\n",
              "\n",
              "  <svg xmlns=\"http://www.w3.org/2000/svg\" height=\"24px\" viewBox=\"0 -960 960 960\">\n",
              "    <path d=\"M120-120v-720h720v720H120Zm60-500h600v-160H180v160Zm220 220h160v-160H400v160Zm0 220h160v-160H400v160ZM180-400h160v-160H180v160Zm440 0h160v-160H620v160ZM180-180h160v-160H180v160Zm440 0h160v-160H620v160Z\"/>\n",
              "  </svg>\n",
              "    </button>\n",
              "\n",
              "  <style>\n",
              "    .colab-df-container {\n",
              "      display:flex;\n",
              "      gap: 12px;\n",
              "    }\n",
              "\n",
              "    .colab-df-convert {\n",
              "      background-color: #E8F0FE;\n",
              "      border: none;\n",
              "      border-radius: 50%;\n",
              "      cursor: pointer;\n",
              "      display: none;\n",
              "      fill: #1967D2;\n",
              "      height: 32px;\n",
              "      padding: 0 0 0 0;\n",
              "      width: 32px;\n",
              "    }\n",
              "\n",
              "    .colab-df-convert:hover {\n",
              "      background-color: #E2EBFA;\n",
              "      box-shadow: 0px 1px 2px rgba(60, 64, 67, 0.3), 0px 1px 3px 1px rgba(60, 64, 67, 0.15);\n",
              "      fill: #174EA6;\n",
              "    }\n",
              "\n",
              "    .colab-df-buttons div {\n",
              "      margin-bottom: 4px;\n",
              "    }\n",
              "\n",
              "    [theme=dark] .colab-df-convert {\n",
              "      background-color: #3B4455;\n",
              "      fill: #D2E3FC;\n",
              "    }\n",
              "\n",
              "    [theme=dark] .colab-df-convert:hover {\n",
              "      background-color: #434B5C;\n",
              "      box-shadow: 0px 1px 3px 1px rgba(0, 0, 0, 0.15);\n",
              "      filter: drop-shadow(0px 1px 2px rgba(0, 0, 0, 0.3));\n",
              "      fill: #FFFFFF;\n",
              "    }\n",
              "  </style>\n",
              "\n",
              "    <script>\n",
              "      const buttonEl =\n",
              "        document.querySelector('#df-52614749-2c84-4643-af74-e004d8e1a27c button.colab-df-convert');\n",
              "      buttonEl.style.display =\n",
              "        google.colab.kernel.accessAllowed ? 'block' : 'none';\n",
              "\n",
              "      async function convertToInteractive(key) {\n",
              "        const element = document.querySelector('#df-52614749-2c84-4643-af74-e004d8e1a27c');\n",
              "        const dataTable =\n",
              "          await google.colab.kernel.invokeFunction('convertToInteractive',\n",
              "                                                    [key], {});\n",
              "        if (!dataTable) return;\n",
              "\n",
              "        const docLinkHtml = 'Like what you see? Visit the ' +\n",
              "          '<a target=\"_blank\" href=https://colab.research.google.com/notebooks/data_table.ipynb>data table notebook</a>'\n",
              "          + ' to learn more about interactive tables.';\n",
              "        element.innerHTML = '';\n",
              "        dataTable['output_type'] = 'display_data';\n",
              "        await google.colab.output.renderOutput(dataTable, element);\n",
              "        const docLink = document.createElement('div');\n",
              "        docLink.innerHTML = docLinkHtml;\n",
              "        element.appendChild(docLink);\n",
              "      }\n",
              "    </script>\n",
              "  </div>\n",
              "\n",
              "\n",
              "<div id=\"df-2bf0f65b-6184-479c-85cb-46456ac61702\">\n",
              "  <button class=\"colab-df-quickchart\" onclick=\"quickchart('df-2bf0f65b-6184-479c-85cb-46456ac61702')\"\n",
              "            title=\"Suggest charts\"\n",
              "            style=\"display:none;\">\n",
              "\n",
              "<svg xmlns=\"http://www.w3.org/2000/svg\" height=\"24px\"viewBox=\"0 0 24 24\"\n",
              "     width=\"24px\">\n",
              "    <g>\n",
              "        <path d=\"M19 3H5c-1.1 0-2 .9-2 2v14c0 1.1.9 2 2 2h14c1.1 0 2-.9 2-2V5c0-1.1-.9-2-2-2zM9 17H7v-7h2v7zm4 0h-2V7h2v10zm4 0h-2v-4h2v4z\"/>\n",
              "    </g>\n",
              "</svg>\n",
              "  </button>\n",
              "\n",
              "<style>\n",
              "  .colab-df-quickchart {\n",
              "      --bg-color: #E8F0FE;\n",
              "      --fill-color: #1967D2;\n",
              "      --hover-bg-color: #E2EBFA;\n",
              "      --hover-fill-color: #174EA6;\n",
              "      --disabled-fill-color: #AAA;\n",
              "      --disabled-bg-color: #DDD;\n",
              "  }\n",
              "\n",
              "  [theme=dark] .colab-df-quickchart {\n",
              "      --bg-color: #3B4455;\n",
              "      --fill-color: #D2E3FC;\n",
              "      --hover-bg-color: #434B5C;\n",
              "      --hover-fill-color: #FFFFFF;\n",
              "      --disabled-bg-color: #3B4455;\n",
              "      --disabled-fill-color: #666;\n",
              "  }\n",
              "\n",
              "  .colab-df-quickchart {\n",
              "    background-color: var(--bg-color);\n",
              "    border: none;\n",
              "    border-radius: 50%;\n",
              "    cursor: pointer;\n",
              "    display: none;\n",
              "    fill: var(--fill-color);\n",
              "    height: 32px;\n",
              "    padding: 0;\n",
              "    width: 32px;\n",
              "  }\n",
              "\n",
              "  .colab-df-quickchart:hover {\n",
              "    background-color: var(--hover-bg-color);\n",
              "    box-shadow: 0 1px 2px rgba(60, 64, 67, 0.3), 0 1px 3px 1px rgba(60, 64, 67, 0.15);\n",
              "    fill: var(--button-hover-fill-color);\n",
              "  }\n",
              "\n",
              "  .colab-df-quickchart-complete:disabled,\n",
              "  .colab-df-quickchart-complete:disabled:hover {\n",
              "    background-color: var(--disabled-bg-color);\n",
              "    fill: var(--disabled-fill-color);\n",
              "    box-shadow: none;\n",
              "  }\n",
              "\n",
              "  .colab-df-spinner {\n",
              "    border: 2px solid var(--fill-color);\n",
              "    border-color: transparent;\n",
              "    border-bottom-color: var(--fill-color);\n",
              "    animation:\n",
              "      spin 1s steps(1) infinite;\n",
              "  }\n",
              "\n",
              "  @keyframes spin {\n",
              "    0% {\n",
              "      border-color: transparent;\n",
              "      border-bottom-color: var(--fill-color);\n",
              "      border-left-color: var(--fill-color);\n",
              "    }\n",
              "    20% {\n",
              "      border-color: transparent;\n",
              "      border-left-color: var(--fill-color);\n",
              "      border-top-color: var(--fill-color);\n",
              "    }\n",
              "    30% {\n",
              "      border-color: transparent;\n",
              "      border-left-color: var(--fill-color);\n",
              "      border-top-color: var(--fill-color);\n",
              "      border-right-color: var(--fill-color);\n",
              "    }\n",
              "    40% {\n",
              "      border-color: transparent;\n",
              "      border-right-color: var(--fill-color);\n",
              "      border-top-color: var(--fill-color);\n",
              "    }\n",
              "    60% {\n",
              "      border-color: transparent;\n",
              "      border-right-color: var(--fill-color);\n",
              "    }\n",
              "    80% {\n",
              "      border-color: transparent;\n",
              "      border-right-color: var(--fill-color);\n",
              "      border-bottom-color: var(--fill-color);\n",
              "    }\n",
              "    90% {\n",
              "      border-color: transparent;\n",
              "      border-bottom-color: var(--fill-color);\n",
              "    }\n",
              "  }\n",
              "</style>\n",
              "\n",
              "  <script>\n",
              "    async function quickchart(key) {\n",
              "      const quickchartButtonEl =\n",
              "        document.querySelector('#' + key + ' button');\n",
              "      quickchartButtonEl.disabled = true;  // To prevent multiple clicks.\n",
              "      quickchartButtonEl.classList.add('colab-df-spinner');\n",
              "      try {\n",
              "        const charts = await google.colab.kernel.invokeFunction(\n",
              "            'suggestCharts', [key], {});\n",
              "      } catch (error) {\n",
              "        console.error('Error during call to suggestCharts:', error);\n",
              "      }\n",
              "      quickchartButtonEl.classList.remove('colab-df-spinner');\n",
              "      quickchartButtonEl.classList.add('colab-df-quickchart-complete');\n",
              "    }\n",
              "    (() => {\n",
              "      let quickchartButtonEl =\n",
              "        document.querySelector('#df-2bf0f65b-6184-479c-85cb-46456ac61702 button');\n",
              "      quickchartButtonEl.style.display =\n",
              "        google.colab.kernel.accessAllowed ? 'block' : 'none';\n",
              "    })();\n",
              "  </script>\n",
              "</div>\n",
              "    </div>\n",
              "  </div>\n"
            ]
          },
          "metadata": {},
          "execution_count": 5
        }
      ],
      "source": [
        "data = df\n",
        "data.head()"
      ]
    },
    {
      "cell_type": "markdown",
      "id": "0c454b32",
      "metadata": {
        "id": "0c454b32"
      },
      "source": [
        "### Preprocessing\n",
        "\n"
      ]
    },
    {
      "cell_type": "code",
      "execution_count": 6,
      "id": "4d8f3e36",
      "metadata": {
        "id": "4d8f3e36"
      },
      "outputs": [],
      "source": [
        "X = np.array(df.quizzes.map(lambda x: list(map(int, x))).to_list()).reshape(-1,9,9,1)\n",
        "Y = np.array(df.solutions.map(lambda x: list(map(int, x))).to_list()).reshape(-1,9,9)"
      ]
    },
    {
      "cell_type": "code",
      "execution_count": 7,
      "id": "662966eb",
      "metadata": {
        "colab": {
          "base_uri": "https://localhost:8080/"
        },
        "id": "662966eb",
        "outputId": "00be88db-c231-47a5-f872-e6b5258d1ea3"
      },
      "outputs": [
        {
          "output_type": "execute_result",
          "data": {
            "text/plain": [
              "(50000, 9, 9, 1)"
            ]
          },
          "metadata": {},
          "execution_count": 7
        }
      ],
      "source": [
        "X.shape"
      ]
    },
    {
      "cell_type": "markdown",
      "id": "7de896d6",
      "metadata": {
        "id": "7de896d6"
      },
      "source": [
        "#### Normalization"
      ]
    },
    {
      "cell_type": "markdown",
      "id": "b60a0fd7",
      "metadata": {
        "id": "b60a0fd7"
      },
      "source": [
        "Normalize the data by dividing it by 9 and subtracting it by 0.5 to achieve zero mean-centred data. Because the neural networks usually generate a better performance with zero-centred normalized data."
      ]
    },
    {
      "cell_type": "code",
      "execution_count": 8,
      "id": "5ec721a9",
      "metadata": {
        "id": "5ec721a9"
      },
      "outputs": [],
      "source": [
        "X = X / 9"
      ]
    },
    {
      "cell_type": "code",
      "execution_count": 9,
      "id": "1d6597b4",
      "metadata": {
        "id": "1d6597b4"
      },
      "outputs": [],
      "source": [
        "X -= .5"
      ]
    },
    {
      "cell_type": "code",
      "execution_count": 10,
      "id": "7d16f852",
      "metadata": {
        "id": "7d16f852"
      },
      "outputs": [],
      "source": [
        "Y -= 1"
      ]
    },
    {
      "cell_type": "markdown",
      "id": "0e0496bf",
      "metadata": {
        "id": "0e0496bf"
      },
      "source": [
        "#### Data Splitting"
      ]
    },
    {
      "cell_type": "markdown",
      "id": "9ff79726",
      "metadata": {
        "id": "9ff79726"
      },
      "source": [
        "Splitting data with a ratio of 80/20. The first 800,000 data (80%) as the training set and the last 200,000 data (20%) as the testing set."
      ]
    },
    {
      "cell_type": "code",
      "execution_count": 11,
      "id": "0ff82b85-8e27-47a1-9d94-a1bad708c71d",
      "metadata": {
        "id": "0ff82b85-8e27-47a1-9d94-a1bad708c71d"
      },
      "outputs": [],
      "source": [
        "# set training split equal to 0.8\n",
        "training_split = 0.8\n",
        "\n",
        "splitidx = int(len(data) * training_split)\n",
        "# first 80% of data as training set, last 20% of data as testing set\n",
        "x_train, x_test = X[:splitidx], X[splitidx:]\n",
        "y_train, y_test = Y[:splitidx], Y[splitidx:]"
      ]
    },
    {
      "cell_type": "code",
      "execution_count": 21,
      "id": "522134bf",
      "metadata": {
        "colab": {
          "base_uri": "https://localhost:8080/"
        },
        "id": "522134bf",
        "outputId": "9aa97d25-9972-44b2-e83e-861444168502"
      },
      "outputs": [
        {
          "output_type": "stream",
          "name": "stdout",
          "text": [
            "(40000, 9, 9, 1)\n"
          ]
        }
      ],
      "source": [
        "# valify the size of training set\n",
        "print(x_train.shape)"
      ]
    },
    {
      "cell_type": "code",
      "execution_count": 22,
      "id": "e2468c26",
      "metadata": {
        "colab": {
          "base_uri": "https://localhost:8080/"
        },
        "id": "e2468c26",
        "outputId": "2fa5e61b-f2bd-4229-927f-7cb18a87cdfc"
      },
      "outputs": [
        {
          "output_type": "stream",
          "name": "stdout",
          "text": [
            "(10000, 9, 9, 1)\n"
          ]
        }
      ],
      "source": [
        "# valify the size of testing set\n",
        "print(x_test.shape)"
      ]
    },
    {
      "cell_type": "code",
      "execution_count": 12,
      "id": "db2810f7-93b6-4a75-9fe2-adf9dbae62d4",
      "metadata": {
        "id": "db2810f7-93b6-4a75-9fe2-adf9dbae62d4"
      },
      "outputs": [],
      "source": [
        "# define a plot function to plot the loss and accuracy of train and test\n",
        "def loss_acc_plot(history):\n",
        "    fig, ax = plt.subplots(1,2)\n",
        "    fig.set_size_inches(12,6)\n",
        "\n",
        "    ax[0].plot(history.history['loss'], label='train loss')\n",
        "    ax[0].plot(history.history['val_loss'], label='val loss')\n",
        "    ax[0].set_title('Training and Validation Loss')\n",
        "    ax[0].set_ylabel('Loss')\n",
        "    ax[0].set_xlabel('Epochs')\n",
        "    ax[0].legend(['train', 'val'], loc='upper right')\n",
        "\n",
        "    ax[1].plot(history.history['accuracy'], label='accuracy')\n",
        "    ax[1].plot(history.history['val_accuracy'], label='val_accuracy')\n",
        "    ax[1].set_title('Training and Validation Accuracy')\n",
        "    ax[1].set_ylabel('Accuracy')\n",
        "    ax[1].set_xlabel('Epochs')\n",
        "    ax[1].legend(['train', 'val'], loc='upper right')\n",
        "\n",
        "    plt.show()"
      ]
    },
    {
      "cell_type": "code",
      "execution_count": 13,
      "id": "abd0ccbf",
      "metadata": {
        "id": "abd0ccbf"
      },
      "outputs": [],
      "source": [
        "# using an Adam optimizer with a learning rate of 0.001\n",
        "optimizer = tf.keras.optimizers.Adam(0.001)"
      ]
    },
    {
      "cell_type": "markdown",
      "id": "f54cfd23-6de0-495d-bdd9-4c90178ebb22",
      "metadata": {
        "id": "f54cfd23-6de0-495d-bdd9-4c90178ebb22"
      },
      "source": [
        "#### ANN Model"
      ]
    },
    {
      "cell_type": "code",
      "source": [
        "import tensorflow as tf\n",
        "from tensorflow.keras.layers import Dense, Flatten, BatchNormalization, LayerNormalization, Activation, Reshape\n",
        "\n",
        "# Function for the ANN model\n",
        "def ann_model_func1():\n",
        "\n",
        "    model = tf.keras.Sequential()\n",
        "    model.add(Flatten(input_shape=(9, 9, 1)))\n",
        "    model.add(Dense(64, activation='relu'))\n",
        "    model.add(BatchNormalization())\n",
        "    model.add(Dense(64, activation='relu'))\n",
        "    model.add(BatchNormalization())\n",
        "    model.add(Dense(128, activation='relu'))\n",
        "    model.add(BatchNormalization())\n",
        "    model.add(Flatten())\n",
        "    model.add(Dense(81*9))\n",
        "    model.add(LayerNormalization(axis=-1))\n",
        "    model.add(Reshape((9, 9, 9)))\n",
        "    model.add(Activation('softmax'))\n",
        "\n",
        "    return model\n",
        "\n",
        "ann_model = ann_model_func1()\n",
        "\n",
        "\n",
        "ann_model.summary()\n"
      ],
      "metadata": {
        "colab": {
          "base_uri": "https://localhost:8080/"
        },
        "id": "g2rbUmh70AHD",
        "outputId": "f16920db-2162-4bc1-e277-a3225b9675cb"
      },
      "id": "g2rbUmh70AHD",
      "execution_count": 14,
      "outputs": [
        {
          "output_type": "stream",
          "name": "stdout",
          "text": [
            "Model: \"sequential\"\n",
            "_________________________________________________________________\n",
            " Layer (type)                Output Shape              Param #   \n",
            "=================================================================\n",
            " flatten (Flatten)           (None, 81)                0         \n",
            "                                                                 \n",
            " dense (Dense)               (None, 64)                5248      \n",
            "                                                                 \n",
            " batch_normalization (Batch  (None, 64)                256       \n",
            " Normalization)                                                  \n",
            "                                                                 \n",
            " dense_1 (Dense)             (None, 64)                4160      \n",
            "                                                                 \n",
            " batch_normalization_1 (Bat  (None, 64)                256       \n",
            " chNormalization)                                                \n",
            "                                                                 \n",
            " dense_2 (Dense)             (None, 128)               8320      \n",
            "                                                                 \n",
            " batch_normalization_2 (Bat  (None, 128)               512       \n",
            " chNormalization)                                                \n",
            "                                                                 \n",
            " flatten_1 (Flatten)         (None, 128)               0         \n",
            "                                                                 \n",
            " dense_3 (Dense)             (None, 729)               94041     \n",
            "                                                                 \n",
            " layer_normalization (Layer  (None, 729)               1458      \n",
            " Normalization)                                                  \n",
            "                                                                 \n",
            " reshape (Reshape)           (None, 9, 9, 9)           0         \n",
            "                                                                 \n",
            " activation (Activation)     (None, 9, 9, 9)           0         \n",
            "                                                                 \n",
            "=================================================================\n",
            "Total params: 114251 (446.29 KB)\n",
            "Trainable params: 113739 (444.29 KB)\n",
            "Non-trainable params: 512 (2.00 KB)\n",
            "_________________________________________________________________\n"
          ]
        }
      ]
    },
    {
      "cell_type": "code",
      "execution_count": 16,
      "id": "76170f3b",
      "metadata": {
        "colab": {
          "base_uri": "https://localhost:8080/"
        },
        "id": "76170f3b",
        "outputId": "143cab51-6439-49d5-fcf9-9c5fa8a1729b"
      },
      "outputs": [
        {
          "output_type": "stream",
          "name": "stdout",
          "text": [
            "Epoch 1/20\n",
            "1250/1250 [==============================] - 13s 9ms/step - loss: 2.1141 - accuracy: 0.1644 - val_loss: 2.1118 - val_accuracy: 0.1604\n",
            "Epoch 2/20\n",
            "1250/1250 [==============================] - 10s 8ms/step - loss: 2.1117 - accuracy: 0.1656 - val_loss: 2.1110 - val_accuracy: 0.1603\n",
            "Epoch 3/20\n",
            "1250/1250 [==============================] - 11s 9ms/step - loss: 2.1104 - accuracy: 0.1662 - val_loss: 2.1100 - val_accuracy: 0.1615\n",
            "Epoch 4/20\n",
            "1250/1250 [==============================] - 9s 7ms/step - loss: 2.1092 - accuracy: 0.1672 - val_loss: 2.1092 - val_accuracy: 0.1613\n",
            "Epoch 5/20\n",
            "1250/1250 [==============================] - 11s 9ms/step - loss: 2.1078 - accuracy: 0.1677 - val_loss: 2.1083 - val_accuracy: 0.1625\n",
            "Epoch 6/20\n",
            "1250/1250 [==============================] - 10s 8ms/step - loss: 2.1066 - accuracy: 0.1684 - val_loss: 2.1072 - val_accuracy: 0.1621\n",
            "Epoch 7/20\n",
            "1250/1250 [==============================] - 10s 8ms/step - loss: 2.1052 - accuracy: 0.1693 - val_loss: 2.1062 - val_accuracy: 0.1626\n",
            "Epoch 8/20\n",
            "1250/1250 [==============================] - 9s 7ms/step - loss: 2.1038 - accuracy: 0.1702 - val_loss: 2.1047 - val_accuracy: 0.1629\n",
            "Epoch 9/20\n",
            "1250/1250 [==============================] - 8s 7ms/step - loss: 2.1026 - accuracy: 0.1709 - val_loss: 2.1038 - val_accuracy: 0.1635\n",
            "Epoch 10/20\n",
            "1250/1250 [==============================] - 10s 8ms/step - loss: 2.1009 - accuracy: 0.1713 - val_loss: 2.1024 - val_accuracy: 0.1640\n",
            "Epoch 11/20\n",
            "1250/1250 [==============================] - 10s 8ms/step - loss: 2.1002 - accuracy: 0.1718 - val_loss: 2.1014 - val_accuracy: 0.1656\n",
            "Epoch 12/20\n",
            "1250/1250 [==============================] - 10s 8ms/step - loss: 2.0989 - accuracy: 0.1730 - val_loss: 2.1004 - val_accuracy: 0.1657\n",
            "Epoch 13/20\n",
            "1250/1250 [==============================] - 9s 7ms/step - loss: 2.0977 - accuracy: 0.1737 - val_loss: 2.0991 - val_accuracy: 0.1664\n",
            "Epoch 14/20\n",
            "1250/1250 [==============================] - 10s 8ms/step - loss: 2.0962 - accuracy: 0.1748 - val_loss: 2.0975 - val_accuracy: 0.1672\n",
            "Epoch 15/20\n",
            "1250/1250 [==============================] - 10s 8ms/step - loss: 2.0946 - accuracy: 0.1757 - val_loss: 2.0953 - val_accuracy: 0.1693\n",
            "Epoch 16/20\n",
            "1250/1250 [==============================] - 10s 8ms/step - loss: 2.0926 - accuracy: 0.1768 - val_loss: 2.0930 - val_accuracy: 0.1704\n",
            "Epoch 17/20\n",
            "1250/1250 [==============================] - 11s 9ms/step - loss: 2.0908 - accuracy: 0.1780 - val_loss: 2.0910 - val_accuracy: 0.1718\n",
            "Epoch 18/20\n",
            "1250/1250 [==============================] - 9s 7ms/step - loss: 2.0888 - accuracy: 0.1786 - val_loss: 2.0885 - val_accuracy: 0.1728\n",
            "Epoch 19/20\n",
            "1250/1250 [==============================] - 10s 8ms/step - loss: 2.0867 - accuracy: 0.1798 - val_loss: 2.0853 - val_accuracy: 0.1746\n",
            "Epoch 20/20\n",
            "1250/1250 [==============================] - 11s 8ms/step - loss: 2.0844 - accuracy: 0.1813 - val_loss: 2.0825 - val_accuracy: 0.1765\n"
          ]
        }
      ],
      "source": [
        "# Train the model\n",
        "ann_model.compile(loss='sparse_categorical_crossentropy', optimizer=optimizer, metrics=['accuracy'])\n",
        "\n",
        "history1 = ann_model.fit(x_train, y_train, batch_size=32, epochs=20, validation_data=(x_test, y_test))"
      ]
    },
    {
      "cell_type": "code",
      "execution_count": 17,
      "id": "bbcf496b",
      "metadata": {
        "id": "bbcf496b",
        "outputId": "833cc68e-fb0e-445f-9e4d-f2cc5ad9d0cb",
        "colab": {
          "base_uri": "https://localhost:8080/",
          "height": 477
        }
      },
      "outputs": [
        {
          "output_type": "display_data",
          "data": {
            "text/plain": [
              "<Figure size 1200x600 with 2 Axes>"
            ],
            "image/png": "[encoded data removed]"
          },
          "metadata": {}
        }
      ],
      "source": [
        "loss_acc_plot(history1)"
      ]
    },
    {
      "cell_type": "markdown",
      "id": "b9d20c7e",
      "metadata": {
        "id": "b9d20c7e"
      },
      "source": [
        "From the above training, it looks like the training loss decreasing and validation loss is also decreasing."
      ]
    },
    {
      "cell_type": "code",
      "execution_count": 18,
      "id": "77d2989c",
      "metadata": {
        "id": "77d2989c",
        "outputId": "b0a26bce-f4df-4cbb-8a71-7487888be8a7",
        "colab": {
          "base_uri": "https://localhost:8080/"
        }
      },
      "outputs": [
        {
          "output_type": "stream",
          "name": "stdout",
          "text": [
            "Training Loss: 2.0844, Training Accuracy: 0.1813\n"
          ]
        }
      ],
      "source": [
        "training_accuracy1 = history1.history['accuracy'][-1]\n",
        "training_loss1 = history1.history['loss'][-1]\n",
        "print(f\"Training Loss: {training_loss1:.4f}, Training Accuracy: {training_accuracy1:.4f}\")"
      ]
    },
    {
      "cell_type": "code",
      "execution_count": 20,
      "id": "d6745f0c",
      "metadata": {
        "id": "d6745f0c",
        "outputId": "b103fe61-361a-40c8-f416-71d09dbaea35",
        "colab": {
          "base_uri": "https://localhost:8080/"
        }
      },
      "outputs": [
        {
          "output_type": "stream",
          "name": "stdout",
          "text": [
            "313/313 [==============================] - 1s 4ms/step - loss: 2.0825 - accuracy: 0.1765\n",
            "Done!\n",
            "Valiation Loss: 2.0825, Validation Accuracy: 0.1765\n"
          ]
        }
      ],
      "source": [
        "val_loss1, val_accuracy1 = ann_model.evaluate(x_test,y_test)\n",
        "print(f\"Done!\\nValiation Loss: {val_loss1:.4f}, Validation Accuracy: {val_accuracy1:.4f}\")"
      ]
    }
  ],
  "metadata": {
    "colab": {
      "provenance": []
    },
    "kernelspec": {
      "display_name": "Python 3 (ipykernel)",
      "language": "python",
      "name": "python3"
    },
    "language_info": {
      "codemirror_mode": {
        "name": "ipython",
        "version": 3
      },
      "file_extension": ".py",
      "mimetype": "text/x-python",
      "name": "python",
      "nbconvert_exporter": "python",
      "pygments_lexer": "ipython3",
      "version": "3.8.8"
    }
  },
  "nbformat": 4,
  "nbformat_minor": 5
}