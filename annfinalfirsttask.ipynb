{
  "cells": [
    {
      "cell_type": "markdown",
      "metadata": {
        "id": "Sy-UMgwJ9I7n"
      },
      "source": [
        "#Sudoku Solving with Neural Network Models- Part 1\n",
        "Author - MEGHA ELDHO"
      ]
    },
    {
      "cell_type": "code",
      "execution_count": 7,
      "metadata": {
        "id": "HXbd_hB64507"
      },
      "outputs": [],
      "source": [
        "import torch\n",
        "import torch.nn as nn\n",
        "import torch.optim as optim\n",
        "from torchvision import datasets, transforms\n",
        "from torch.utils.data import DataLoader, random_split\n",
        "import numpy as np\n",
        "import pandas as pd\n",
        "import matplotlib.pyplot as plt\n"
      ]
    },
    {
      "cell_type": "code",
      "execution_count": 8,
      "metadata": {
        "id": "H2rctOmA_rY4"
      },
      "outputs": [],
      "source": [
        "# Define transformations for MNIST data\n",
        "transform = transforms.Compose([\n",
        "    transforms.ToTensor(),\n",
        "    transforms.Normalize((0.5,), (0.5,))\n",
        "])\n",
        "\n",
        "# Download and load MNIST data\n",
        "mnist_data = datasets.MNIST(root='mnist_data', train=True, download=True, transform=transform)"
      ]
    },
    {
      "cell_type": "code",
      "execution_count": 9,
      "metadata": {
        "id": "tNlr-FWb_9UB"
      },
      "outputs": [],
      "source": [
        "# Split the dataset into train and validation sets\n",
        "train_size = int(0.8 * len(mnist_data))\n",
        "val_size = len(mnist_data) - train_size\n",
        "train_data, val_data = random_split(mnist_data, [train_size, val_size])\n",
        "\n",
        "# Create data loaders\n",
        "train_loader = DataLoader(train_data, batch_size=64, shuffle=True)\n",
        "val_loader = DataLoader(val_data, batch_size=64, shuffle=False)"
      ]
    },
    {
      "cell_type": "code",
      "execution_count": 10,
      "metadata": {
        "id": "rqc_BFsFANpp"
      },
      "outputs": [],
      "source": [
        "# Define the model\n",
        "class CNNMNISTModel(nn.Module):\n",
        "    def __init__(self):\n",
        "        super(CNNMNISTModel, self).__init__()\n",
        "        self.conv1 = nn.Conv2d(1, 32, kernel_size=3, stride=1, padding=1)\n",
        "        self.relu1 = nn.ReLU()\n",
        "        self.maxpool1 = nn.MaxPool2d(kernel_size=2, stride=2)\n",
        "\n",
        "        self.conv2 = nn.Conv2d(32, 64, kernel_size=3, stride=1, padding=1)\n",
        "        self.relu2 = nn.ReLU()\n",
        "        self.maxpool2 = nn.MaxPool2d(kernel_size=2, stride=2)\n",
        "\n",
        "        self.flatten = nn.Flatten()\n",
        "        self.fc1 = nn.Linear(64 * 7 * 7, 128)\n",
        "        self.relu3 = nn.ReLU()\n",
        "        self.fc2 = nn.Linear(128, 10)\n",
        "\n",
        "    def forward(self, x):\n",
        "        x = self.conv1(x)\n",
        "        x = self.relu1(x)\n",
        "        x = self.maxpool1(x)\n",
        "\n",
        "        x = self.conv2(x)\n",
        "        x = self.relu2(x)\n",
        "        x = self.maxpool2(x)\n",
        "\n",
        "        x = self.flatten(x)\n",
        "        x = self.fc1(x)\n",
        "        x = self.relu3(x)\n",
        "        x = self.fc2(x)\n",
        "\n",
        "        return x\n",
        "\n",
        "cnn_mnist_model = CNNMNISTModel()"
      ]
    },
    {
      "cell_type": "code",
      "execution_count": null,
      "metadata": {},
      "outputs": [],
      "source": []
    },
    {
      "cell_type": "code",
      "execution_count": 12,
      "metadata": {
        "colab": {
          "base_uri": "https://localhost:8080/"
        },
        "id": "YNGX3bwK_qdm",
        "outputId": "6b8c3631-dd68-4f13-a642-5a552b8d22c0"
      },
      "outputs": [
        {
          "name": "stdout",
          "output_type": "stream",
          "text": [
            "Epoch [1/10], Step [100/750], Loss: 0.609096961170435\n",
            "Epoch [1/10], Step [200/750], Loss: 0.18551540561020374\n",
            "Epoch [1/10], Step [300/750], Loss: 0.14089028695598244\n",
            "Epoch [1/10], Step [400/750], Loss: 0.10590807010419667\n",
            "Epoch [1/10], Step [500/750], Loss: 0.07937136877328158\n",
            "Epoch [1/10], Step [600/750], Loss: 0.0770792595623061\n",
            "Epoch [1/10], Step [700/750], Loss: 0.06733147357590497\n",
            "Epoch [1/10], Train Loss: 0.004300513625144958, Train Accuracy: 0.948375, Val Loss: 0.07869500095183228, Val Accuracy: 0.9756666666666667\n",
            "Epoch [2/10], Step [100/750], Loss: 0.06287672255188227\n",
            "Epoch [2/10], Step [200/750], Loss: 0.06089512834325433\n",
            "Epoch [2/10], Step [300/750], Loss: 0.06319700109306722\n",
            "Epoch [2/10], Step [400/750], Loss: 0.05048425759421662\n",
            "Epoch [2/10], Step [500/750], Loss: 0.04630071057705209\n",
            "Epoch [2/10], Step [600/750], Loss: 0.04319494583935011\n",
            "Epoch [2/10], Step [700/750], Loss: 0.04169517045142129\n",
            "Epoch [2/10], Train Loss: 0.002473214452465375, Train Accuracy: 0.983875, Val Loss: 0.05971900538350654, Val Accuracy: 0.9824166666666667\n",
            "Epoch [3/10], Step [100/750], Loss: 0.04293307424057275\n",
            "Epoch [3/10], Step [200/750], Loss: 0.04414749351446517\n",
            "Epoch [3/10], Step [300/750], Loss: 0.041870395427104086\n",
            "Epoch [3/10], Step [400/750], Loss: 0.03272666531032883\n",
            "Epoch [3/10], Step [500/750], Loss: 0.02745756447315216\n",
            "Epoch [3/10], Step [600/750], Loss: 0.030576279903179966\n",
            "Epoch [3/10], Step [700/750], Loss: 0.025230785965686665\n",
            "Epoch [3/10], Train Loss: 0.0018764293695179126, Train Accuracy: 0.9891666666666666, Val Loss: 0.05166470523080863, Val Accuracy: 0.9864166666666667\n",
            "Epoch [4/10], Step [100/750], Loss: 0.030108036885794717\n",
            "Epoch [4/10], Step [200/750], Loss: 0.03159695705340709\n",
            "Epoch [4/10], Step [300/750], Loss: 0.032510317481355744\n",
            "Epoch [4/10], Step [400/750], Loss: 0.019709541051997802\n",
            "Epoch [4/10], Step [500/750], Loss: 0.01759243473468814\n",
            "Epoch [4/10], Step [600/750], Loss: 0.020448116186307742\n",
            "Epoch [4/10], Step [700/750], Loss: 0.014314852741954383\n",
            "Epoch [4/10], Train Loss: 0.0016335519868880511, Train Accuracy: 0.9927291666666667, Val Loss: 0.06194328116482133, Val Accuracy: 0.9829166666666667\n",
            "Epoch [5/10], Step [100/750], Loss: 0.021538736396760214\n",
            "Epoch [5/10], Step [200/750], Loss: 0.023746002350526395\n",
            "Epoch [5/10], Step [300/750], Loss: 0.025131371379247865\n",
            "Epoch [5/10], Step [400/750], Loss: 0.015294137692108052\n",
            "Epoch [5/10], Step [500/750], Loss: 0.012488331946005928\n",
            "Epoch [5/10], Step [600/750], Loss: 0.015953738861571764\n",
            "Epoch [5/10], Step [700/750], Loss: 0.009244137675705134\n",
            "Epoch [5/10], Train Loss: 0.001158407240989618, Train Accuracy: 0.9948333333333333, Val Loss: 0.054267392349968156, Val Accuracy: 0.98675\n",
            "Epoch [6/10], Step [100/750], Loss: 0.01655186187446816\n",
            "Epoch [6/10], Step [200/750], Loss: 0.015631653742893832\n",
            "Epoch [6/10], Step [300/750], Loss: 0.024332705120905303\n",
            "Epoch [6/10], Step [400/750], Loss: 0.013446262677025516\n",
            "Epoch [6/10], Step [500/750], Loss: 0.013086756440025056\n",
            "Epoch [6/10], Step [600/750], Loss: 0.014307399467943469\n",
            "Epoch [6/10], Step [700/750], Loss: 0.008346830040682107\n",
            "Epoch [6/10], Train Loss: 0.0008721265726586959, Train Accuracy: 0.9954166666666666, Val Loss: 0.06059562601731546, Val Accuracy: 0.985\n",
            "Epoch [7/10], Step [100/750], Loss: 0.013314609100634698\n",
            "Epoch [7/10], Step [200/750], Loss: 0.017699729569503688\n",
            "Epoch [7/10], Step [300/750], Loss: 0.020268093510603647\n",
            "Epoch [7/10], Step [400/750], Loss: 0.010696187395369634\n",
            "Epoch [7/10], Step [500/750], Loss: 0.012061363601187623\n",
            "Epoch [7/10], Step [600/750], Loss: 0.008382158726781198\n",
            "Epoch [7/10], Step [700/750], Loss: 0.012032237382463791\n",
            "Epoch [7/10], Train Loss: 0.0008997184212154631, Train Accuracy: 0.9957291666666667, Val Loss: 0.05526375110866866, Val Accuracy: 0.9865\n",
            "Epoch [8/10], Step [100/750], Loss: 0.013310045226317015\n",
            "Epoch [8/10], Step [200/750], Loss: 0.013575653216976206\n",
            "Epoch [8/10], Step [300/750], Loss: 0.013514239989453926\n",
            "Epoch [8/10], Step [400/750], Loss: 0.005696946497391764\n",
            "Epoch [8/10], Step [500/750], Loss: 0.012278321270059678\n",
            "Epoch [8/10], Step [600/750], Loss: 0.00789476314008425\n",
            "Epoch [8/10], Step [700/750], Loss: 0.00940921068606258\n",
            "Epoch [8/10], Train Loss: 0.0006324418584893768, Train Accuracy: 0.9965625, Val Loss: 0.06392309172788567, Val Accuracy: 0.9865\n",
            "Epoch [9/10], Step [100/750], Loss: 0.010132690608152188\n",
            "Epoch [9/10], Step [200/750], Loss: 0.013947704941601842\n",
            "Epoch [9/10], Step [300/750], Loss: 0.008748450774710363\n",
            "Epoch [9/10], Step [400/750], Loss: 0.008810821262586614\n",
            "Epoch [9/10], Step [500/750], Loss: 0.008497962202054623\n",
            "Epoch [9/10], Step [600/750], Loss: 0.01069052646259479\n",
            "Epoch [9/10], Step [700/750], Loss: 0.0060477568746864566\n",
            "Epoch [9/10], Train Loss: 0.0005624497306368236, Train Accuracy: 0.9965625, Val Loss: 0.06519403972088475, Val Accuracy: 0.987\n",
            "Epoch [10/10], Step [100/750], Loss: 0.005869063927502793\n",
            "Epoch [10/10], Step [200/750], Loss: 0.010615618346478187\n",
            "Epoch [10/10], Step [300/750], Loss: 0.00849236327347171\n",
            "Epoch [10/10], Step [400/750], Loss: 0.004101553725648728\n",
            "Epoch [10/10], Step [500/750], Loss: 0.006361685923475306\n",
            "Epoch [10/10], Step [600/750], Loss: 0.008110231411665154\n",
            "Epoch [10/10], Step [700/750], Loss: 0.006835089701858124\n",
            "Epoch [10/10], Train Loss: 0.0004705615914208465, Train Accuracy: 0.9974375, Val Loss: 0.06971982900105114, Val Accuracy: 0.9878333333333333\n"
          ]
        }
      ],
      "source": [
        "# Define the loss function and optimizer\n",
        "criterion = nn.CrossEntropyLoss()\n",
        "optimizer = optim.Adam(cnn_mnist_model.parameters(), lr=0.001)\n",
        "\n",
        "num_epochs = 10\n",
        "\n",
        "# Lists to store metrics for plotting\n",
        "train_losses = []\n",
        "val_losses = []\n",
        "train_accuracies = []\n",
        "val_accuracies = []\n",
        "\n",
        "# Training loop\n",
        "for epoch in range(num_epochs):\n",
        "    cnn_mnist_model.train()\n",
        "    correct_train = 0\n",
        "    total_train = 0\n",
        "    running_loss = 0.0\n",
        "    for i, (images, labels) in enumerate(train_loader):\n",
        "        # Forward pass\n",
        "        outputs = cnn_mnist_model(images)\n",
        "        loss = criterion(outputs, labels)\n",
        "\n",
        "        # Backward and optimize\n",
        "        optimizer.zero_grad()\n",
        "        loss.backward()\n",
        "        optimizer.step()\n",
        "\n",
        "        # Compute training accuracy and loss\n",
        "        _, predicted = torch.max(outputs.data, 1)\n",
        "        total_train += labels.size(0)\n",
        "        correct_train += (predicted == labels).sum().item()\n",
        "        running_loss += loss.item()\n",
        "\n",
        "        if (i + 1) % 100 == 0:\n",
        "            print(f'Epoch [{epoch+1}/{num_epochs}], Step [{i+1}/{len(train_loader)}], Loss: {running_loss / 100}')\n",
        "            running_loss = 0.0\n",
        "\n",
        "    train_loss = running_loss / len(train_loader)\n",
        "    train_accuracy = correct_train / total_train\n",
        "    train_losses.append(train_loss)\n",
        "    train_accuracies.append(train_accuracy)\n",
        "\n",
        "    # Validation loop\n",
        "    cnn_mnist_model.eval()\n",
        "    correct_val = 0\n",
        "    total_val = 0\n",
        "    val_loss = 0.0\n",
        "    with torch.no_grad():\n",
        "        for images, labels in val_loader:\n",
        "            outputs = cnn_mnist_model(images)\n",
        "            loss = criterion(outputs, labels)\n",
        "\n",
        "            # Compute validation accuracy and loss\n",
        "            _, predicted = torch.max(outputs.data, 1)\n",
        "            total_val += labels.size(0)\n",
        "            correct_val += (predicted == labels).sum().item()\n",
        "            val_loss += loss.item()\n",
        "\n",
        "    val_loss /= len(val_loader)\n",
        "    val_accuracy = correct_val / total_val\n",
        "    val_losses.append(val_loss)\n",
        "    val_accuracies.append(val_accuracy)\n",
        "\n",
        "    print(f'Epoch [{epoch+1}/{num_epochs}], Train Loss: {train_loss}, Train Accuracy: {train_accuracy}, Val Loss: {val_loss}, Val Accuracy: {val_accuracy}')\n",
        "\n"
      ]
    },
    {
      "cell_type": "code",
      "execution_count": 13,
      "metadata": {
        "colab": {
          "base_uri": "https://localhost:8080/",
          "height": 527
        },
        "id": "2xytXyq2ApZB",
        "outputId": "3bff799e-b09f-41e2-a6e5-f3f34b7b1007"
      },
      "outputs": [
        {
          "data": {
            "image/png": "[encoded data removed]",
            "text/plain": [
              "<Figure size 1000x500 with 2 Axes>"
            ]
          },
          "metadata": {},
          "output_type": "display_data"
        }
      ],
      "source": [
        "# Plotting graphs\n",
        "plt.figure(figsize=(10, 5))\n",
        "\n",
        "# Plotting training and validation losses\n",
        "plt.subplot(1, 2, 1)\n",
        "plt.plot(train_losses, label='Training Loss')\n",
        "plt.plot(val_losses, label='Validation Loss')\n",
        "plt.xlabel('Epoch')\n",
        "plt.ylabel('Loss')\n",
        "plt.title('Training and Validation Loss')\n",
        "plt.legend()\n",
        "\n",
        "# Plotting training and validation accuracies\n",
        "plt.subplot(1, 2, 2)\n",
        "plt.plot(train_accuracies, label='Training Accuracy')\n",
        "plt.plot(val_accuracies, label='Validation Accuracy')\n",
        "plt.xlabel('Epoch')\n",
        "plt.ylabel('Accuracy')\n",
        "plt.title('Training and Validation Accuracy')\n",
        "plt.legend()\n",
        "\n",
        "plt.tight_layout()\n",
        "plt.show()\n"
      ]
    },
    {
      "cell_type": "markdown",
      "metadata": {
        "id": "tDfXbGbiFFCQ"
      },
      "source": [
        "#Data Preprocessing"
      ]
    },
    {
      "cell_type": "code",
      "execution_count": 14,
      "metadata": {
        "colab": {
          "base_uri": "https://localhost:8080/"
        },
        "id": "pa2Wm7OBPbpJ",
        "outputId": "510439a4-7c49-4fb3-95f9-609f506c25e0"
      },
      "outputs": [
        {
          "data": {
            "text/plain": [
              "array([[[0, 0, 0, ..., 0, 0, 0],\n",
              "        [0, 0, 0, ..., 0, 0, 0],\n",
              "        [0, 0, 0, ..., 0, 0, 0],\n",
              "        ...,\n",
              "        [0, 0, 0, ..., 0, 0, 0],\n",
              "        [0, 0, 0, ..., 0, 0, 0],\n",
              "        [0, 0, 0, ..., 0, 0, 0]],\n",
              "\n",
              "       [[0, 0, 0, ..., 0, 0, 0],\n",
              "        [0, 0, 0, ..., 0, 0, 0],\n",
              "        [0, 0, 0, ..., 0, 0, 0],\n",
              "        ...,\n",
              "        [0, 0, 0, ..., 0, 0, 0],\n",
              "        [0, 0, 0, ..., 0, 0, 0],\n",
              "        [0, 0, 0, ..., 0, 0, 0]],\n",
              "\n",
              "       [[0, 0, 0, ..., 0, 0, 0],\n",
              "        [0, 0, 0, ..., 0, 0, 0],\n",
              "        [0, 0, 0, ..., 0, 0, 0],\n",
              "        ...,\n",
              "        [0, 0, 0, ..., 0, 0, 0],\n",
              "        [0, 0, 0, ..., 0, 0, 0],\n",
              "        [0, 0, 0, ..., 0, 0, 0]],\n",
              "\n",
              "       ...,\n",
              "\n",
              "       [[0, 0, 0, ..., 0, 0, 0],\n",
              "        [0, 0, 0, ..., 0, 0, 0],\n",
              "        [0, 0, 0, ..., 0, 0, 0],\n",
              "        ...,\n",
              "        [0, 0, 0, ..., 0, 0, 0],\n",
              "        [0, 0, 0, ..., 0, 0, 0],\n",
              "        [0, 0, 0, ..., 0, 0, 0]],\n",
              "\n",
              "       [[0, 0, 0, ..., 0, 0, 0],\n",
              "        [0, 0, 0, ..., 0, 0, 0],\n",
              "        [0, 0, 0, ..., 0, 0, 0],\n",
              "        ...,\n",
              "        [0, 0, 0, ..., 0, 0, 0],\n",
              "        [0, 0, 0, ..., 0, 0, 0],\n",
              "        [0, 0, 0, ..., 0, 0, 0]],\n",
              "\n",
              "       [[0, 0, 0, ..., 0, 0, 0],\n",
              "        [0, 0, 0, ..., 0, 0, 0],\n",
              "        [0, 0, 0, ..., 0, 0, 0],\n",
              "        ...,\n",
              "        [0, 0, 0, ..., 0, 0, 0],\n",
              "        [0, 0, 0, ..., 0, 0, 0],\n",
              "        [0, 0, 0, ..., 0, 0, 0]]], dtype=uint8)"
            ]
          },
          "execution_count": 14,
          "metadata": {},
          "output_type": "execute_result"
        }
      ],
      "source": [
        "test_data = np.load('/content/drive/MyDrive/imgs.npy')\n",
        "test_data\n",
        "\n"
      ]
    },
    {
      "cell_type": "code",
      "execution_count": 3,
      "metadata": {
        "colab": {
          "base_uri": "https://localhost:8080/"
        },
        "id": "Trg20n9qPnm0",
        "outputId": "154dcf47-2395-4bb2-a42f-e410c3a11f92"
      },
      "outputs": [
        {
          "data": {
            "text/plain": [
              "torch.Size([10000, 252, 252])"
            ]
          },
          "execution_count": 3,
          "metadata": {},
          "output_type": "execute_result"
        }
      ],
      "source": [
        "testdatatransform = torch.tensor(test_data)\n",
        "testdatatransform.shape\n"
      ]
    },
    {
      "cell_type": "code",
      "execution_count": 15,
      "metadata": {
        "id": "7B9vFp0Mje0-"
      },
      "outputs": [],
      "source": [
        "#code to slice the image into blocks to recognize each digits in the sudoku puzzle\n",
        "sliced_images = []\n",
        "for index, image in enumerate(test_data):\n",
        "  blocks = []\n",
        "  for i in range(0, 252, 28):#since there are 9 cells in a row in a sudoku puzzle the stepsize is 28(252/9)\n",
        "      for j in range(0, 252, 28):\n",
        "          block = image[i:i+28, j:j+28]\n",
        "          block_info = {'index': index, 'row': (i//28), 'column': (j//28), 'block': block}\n",
        "          #print(block_info)\n",
        "          blocks.append(block_info)\n",
        "  sliced_images.append(blocks)\n",
        "\n",
        "\n"
      ]
    },
    {
      "cell_type": "markdown",
      "metadata": {
        "id": "XS8wJpjwKj2E"
      },
      "source": [
        "#Prediction"
      ]
    },
    {
      "cell_type": "code",
      "execution_count": 16,
      "metadata": {
        "id": "9vQBHpLUwmpY"
      },
      "outputs": [],
      "source": [
        "#lists to store the predicted digit\n",
        "prediction = []\n",
        "ids = []"
      ]
    },
    {
      "cell_type": "code",
      "execution_count": 17,
      "metadata": {
        "id": "yMCMZXJUkxIF"
      },
      "outputs": [],
      "source": [
        "\n",
        "for blocks_info in sliced_images:\n",
        "        for block_info in blocks_info:\n",
        "            block = torch.from_numpy(block_info['block']).unsqueeze(0).unsqueeze(0).float()\n",
        "\n",
        "            image_index = block_info['index']\n",
        "            row =   block_info['row']\n",
        "            column = block_info['column']\n",
        "            id = str(image_index) + \"_\" + str(row) + str(column)\n",
        "            if block.sum() == 0:  # Check if the block is empty\n",
        "                predicted_sliced = 0\n",
        "            else:\n",
        "              # Forward pass on the sliced image block\n",
        "              output_sliced = cnn_mnist_model(block)\n",
        "              _, predicted_sliced = torch.max(output_sliced.data, 1)\n",
        "            prediction.append(int(predicted_sliced))\n",
        "            ids.append(id)\n",
        "output = pd.DataFrame({'id' : ids, 'values' : prediction})\n",
        "output.to_csv('predictions.csv',index=False)\n"
      ]
    },
    {
      "cell_type": "markdown",
      "metadata": {
        "id": "rle57wUFLZNr"
      },
      "source": [
        "#Task 2/ Preprocessing , Part 1"
      ]
    },
    {
      "cell_type": "code",
      "execution_count": 18,
      "metadata": {
        "id": "pyroEzuxLrJC"
      },
      "outputs": [],
      "source": [
        "imgs = np.load('/content/drive/MyDrive/imgs (1).npy')\n",
        "labels = np.load('/content/drive/MyDrive/labels.npy')"
      ]
    },
    {
      "cell_type": "markdown",
      "metadata": {
        "id": "1OETi1p8k9dj"
      },
      "source": [
        "This code is to process the train images and the corresponding labels and eacsudoku puzzzles will be put into the csv files as rows."
      ]
    },
    {
      "cell_type": "code",
      "execution_count": 19,
      "metadata": {
        "id": "3B60nQRrQspv"
      },
      "outputs": [],
      "source": [
        "import torch\n",
        "import pandas as pd\n",
        "import numpy as np\n",
        "\n",
        "def solve_and_save_as_csv(p, cnn_mnist_model, filename):\n",
        "    sliced_images = []\n",
        "    for index, image in enumerate(p):\n",
        "        blocks = []\n",
        "        for i in range(0, 252, 28):\n",
        "            for j in range(0, 252, 28):\n",
        "                block = image[i:i+28, j:j+28]\n",
        "                block_info = {'index': index, 'row': (i//28), 'column': (j//28), 'block': block}\n",
        "                blocks.append(block_info)\n",
        "        sliced_images.append(blocks)\n",
        "\n",
        "    index_values_dict = {}\n",
        "    with torch.no_grad():\n",
        "        for blocks_info in sliced_images:\n",
        "            for block_info in blocks_info:\n",
        "                block = torch.from_numpy(block_info['block']).unsqueeze(0).unsqueeze(0).float()\n",
        "                image_index = block_info['index']\n",
        "                row = block_info['row']\n",
        "                column = block_info['column']\n",
        "                id = str(image_index) + \"_\" + str(row) + str(column)\n",
        "\n",
        "                if block.sum() == 0:  # Check if the block is empty\n",
        "                    predicted_sliced = 0\n",
        "                else:\n",
        "                    # Forward pass on the sliced image block\n",
        "                    output_sliced = cnn_mnist_model(block)\n",
        "                    _, predicted_sliced = torch.max(output_sliced.data, 1)\n",
        "                    predicted_sliced_str = str(predicted_sliced.item())\n",
        "\n",
        "                # Concatenate the predicted values for each unique index\n",
        "                if image_index not in index_values_dict:\n",
        "                    index_values_dict[image_index] = predicted_sliced_str\n",
        "                else:\n",
        "                    index_values_dict[image_index] += predicted_sliced_str\n",
        "\n",
        "    # Convert the dictionary values to a DataFrame\n",
        "    df_concatenated_values = pd.DataFrame({'index': list(index_values_dict.keys()), 'predicted_values': list(index_values_dict.values())})\n",
        "\n",
        "    # Save the DataFrame with concatenated predicted values to a CSV file\n",
        "    df_concatenated_values.to_csv(filename + '.csv', index=False)\n",
        "\n",
        "\n"
      ]
    },
    {
      "cell_type": "code",
      "execution_count": null,
      "metadata": {
        "id": "qAFJMiPDQx7l"
      },
      "outputs": [],
      "source": [
        "solve_and_save_as_csv(imgs, cnn_mnist_model, 'imgs')\n"
      ]
    },
    {
      "cell_type": "code",
      "execution_count": null,
      "metadata": {
        "id": "PRBb0z_0Rw0x"
      },
      "outputs": [],
      "source": [
        "solve_and_save_as_csv(labels, cnn_mnist_model, 'labels')"
      ]
    },
    {
      "cell_type": "code",
      "execution_count": null,
      "metadata": {
        "id": "iR_mj7LvRzCd"
      },
      "outputs": [],
      "source": [
        "solve_and_save_as_csv(test_data, cnn_mnist_model, 'test_predictions')\n"
      ]
    },
    {
      "cell_type": "code",
      "execution_count": 25,
      "metadata": {
        "id": "rFT8N-7jqEaF"
      },
      "outputs": [],
      "source": [
        "data = pd.read_csv(\"/content/labels.csv\")"
      ]
    },
    {
      "cell_type": "code",
      "execution_count": 26,
      "metadata": {
        "colab": {
          "base_uri": "https://localhost:8080/"
        },
        "id": "YlZW3NE4qRBk",
        "outputId": "6adb36c1-a818-4f11-cfdc-2bf1f6a55a05"
      },
      "outputs": [
        {
          "data": {
            "text/plain": [
              "(50000, 2)"
            ]
          },
          "execution_count": 26,
          "metadata": {},
          "output_type": "execute_result"
        }
      ],
      "source": [
        "data.shape"
      ]
    },
    {
      "cell_type": "code",
      "execution_count": null,
      "metadata": {
        "id": "b6_XPZtxwq2o"
      },
      "outputs": [],
      "source": [
        "import pandas as pd\n",
        "import random\n",
        "\n",
        "file2_path = '/content/labels.csv'\n",
        "\n",
        "df2 = pd.read_csv(file2_path)\n",
        "col2_df2 = df2.iloc[:, 1]\n",
        "\n",
        "# Replace zeros with random numbers between 1 and 9 in the puzzles\n",
        "for i, puzzle_str in col2_df2.iteritems():\n",
        "    puzzle = [int(char) if char.isdigit() and char != '0' else random.randint(1, 9) for char in str(puzzle_str)]\n",
        "\n",
        "    df2.iloc[i, 1] = ''.join(map(str, puzzle))\n",
        "\n",
        "# Save the modified DataFrame back to a new CSV file\n",
        "df2.to_csv('labels.csv', index=False)\n"
      ]
    },
    {
      "cell_type": "code",
      "execution_count": 44,
      "metadata": {
        "colab": {
          "base_uri": "https://localhost:8080/"
        },
        "id": "MJFegfiEvBM4",
        "outputId": "18fd1b67-1870-422c-966a-361a655561d1"
      },
      "outputs": [
        {
          "name": "stdout",
          "output_type": "stream",
          "text": [
            "683295417421867359795341662572134986846577123349682574138426795964758231257913648\n"
          ]
        }
      ],
      "source": [
        "data = pd.read_csv(\"/content/labels.csv\")\n",
        "data\n",
        "print(data.iloc[0][1])"
      ]
    },
    {
      "cell_type": "code",
      "execution_count": 29,
      "metadata": {
        "id": "pjbTZXHJ1c3r"
      },
      "outputs": [],
      "source": [
        "\n",
        "file1_path = '/content/imgs.csv'\n",
        "file2_path = '/content/labels.csv'\n",
        "\n",
        "df1 = pd.read_csv(file1_path)\n",
        "df2 = pd.read_csv(file2_path)\n",
        "\n",
        "# Extract the second columns from both DataFrames\n",
        "col2_df1 = df1.iloc[:, 1]\n",
        "col2_df2 = df2.iloc[:, 1]\n",
        "merged_df = pd.concat([col2_df1, col2_df2], axis=1)\n",
        "new_headers = ['quizzes', 'solutions']\n",
        "merged_df.columns = new_headers\n",
        "merged_df.to_csv('s2annimp.csv', index=False)\n",
        "\n"
      ]
    }
  ],
  "metadata": {
    "colab": {
      "provenance": []
    },
    "kernelspec": {
      "display_name": "Python 3",
      "name": "python3"
    },
    "language_info": {
      "name": "python",
      "version": "3.11.3"
    }
  },
  "nbformat": 4,
  "nbformat_minor": 0
}
